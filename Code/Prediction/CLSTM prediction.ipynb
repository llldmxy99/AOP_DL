{
 "cells": [
  {
   "cell_type": "code",
   "execution_count": 5,
   "id": "efab492a-bc44-4854-a9b9-30fd35e194c5",
   "metadata": {},
   "outputs": [
    {
     "name": "stdout",
     "output_type": "stream",
     "text": [
      "该氨基酸序列为抗氧化蛋白的可能性为：100.00%\n"
     ]
    }
   ],
   "source": [
    "import torch\n",
    "from torch import nn\n",
    "\n",
    "# 加载模型类（确保它与保存模型时使用的类定义相同）\n",
    "class CNNLSTM(nn.Module):\n",
    "    def __init__(self, vocab_size, embedding_dim, cnn_filters, lstm_hidden, num_classes):\n",
    "        super(CNNLSTM, self).__init__()\n",
    "        self.embedding = nn.Embedding(vocab_size, embedding_dim)\n",
    "        self.conv = nn.Conv1d(embedding_dim, cnn_filters, kernel_size=20)\n",
    "        self.lstm = nn.LSTM(cnn_filters, lstm_hidden, batch_first=True)\n",
    "        self.fc = nn.Linear(lstm_hidden, num_classes)\n",
    "\n",
    "    def forward(self, x):\n",
    "        x = self.embedding(x)\n",
    "        x = x.permute(0, 2, 1)\n",
    "        x = self.conv(x)\n",
    "        x, _ = self.lstm(x.permute(0, 2, 1))\n",
    "        x = self.fc(x[:, -1, :])\n",
    "        return torch.sigmoid(x)\n",
    "\n",
    "# 加载模型\n",
    "def load_model(model_path, model):\n",
    "    model.load_state_dict(torch.load(model_path, map_location=torch.device('cpu')))\n",
    "    return model\n",
    "\n",
    "# 氨基酸到整数的映射\n",
    "aa_to_int = {'A':1, 'R':2, 'N':3, 'D':4, 'C':5, 'E':6, 'Q':7, 'G':8, 'H':9, 'I':10, \n",
    "             'L':11, 'K':12, 'M':13, 'F':14, 'P':15, 'S':16, 'T':17, 'W':18, 'Y':19, \n",
    "             'V':20, 'U':21, 'X':22}  # 假设X代表了所有未知的氨基酸\n",
    "\n",
    "# 编码函数\n",
    "def encode_sequence(seq, max_length):\n",
    "    encoded_seq = [aa_to_int.get(aa, 22) for aa in seq]  # 未知氨基酸编码为22\n",
    "    padding = [0] * (max_length - len(encoded_seq))  # 0 作为padding值\n",
    "    return torch.tensor([encoded_seq + padding], dtype=torch.long)  # 注意返回一个batch的形式\n",
    "\n",
    "# 预测函数\n",
    "def predict(model, sequence, max_length):\n",
    "    model.eval()\n",
    "    with torch.no_grad():\n",
    "        encoded_seq = encode_sequence(sequence, max_length)\n",
    "        prediction = model(encoded_seq)\n",
    "        return prediction.item() * 100  # 转换为百分比形式\n",
    "\n",
    "# 设置参数\n",
    "max_length = 1000  # 这个值应该与训练模型时使用的最大长度相同\n",
    "model_path = r\"model.pth\"  # 模型保存路径\n",
    "\n",
    "# 实例化模型\n",
    "cnn_filters = 64\n",
    "lstm_hidden = 128\n",
    "embedding_dim = 8\n",
    "vocab_size = len(aa_to_int) + 1  # 加1是因为padding的0也算一个\"词\"\n",
    "num_classes = 1  # 输出一个概率值\n",
    "\n",
    "# 创建模型实例\n",
    "model = CNNLSTM(vocab_size, embedding_dim, cnn_filters, lstm_hidden, num_classes)\n",
    "\n",
    "# 加载模型\n",
    "model = load_model(model_path, model)\n",
    "\n",
    "# 假设有一个未知的氨基酸序列\n",
    "unknown_sequence = \"sequence\"\n",
    "\n",
    "# 进行预测\n",
    "percentage = predict(model, unknown_sequence, max_length)\n",
    "print(f\"该氨基酸序列为抗氧化蛋白的可能性为：{percentage:.2f}%\")"
   ]
  },
  {
   "cell_type": "code",
   "execution_count": null,
   "id": "7eb0686b-1481-487c-97d1-5bb665a13e03",
   "metadata": {},
   "outputs": [],
   "source": []
  }
 ],
 "metadata": {
  "kernelspec": {
   "display_name": "Python 3 (ipykernel)",
   "language": "python",
   "name": "python3"
  },
  "language_info": {
   "codemirror_mode": {
    "name": "ipython",
    "version": 3
   },
   "file_extension": ".py",
   "mimetype": "text/x-python",
   "name": "python",
   "nbconvert_exporter": "python",
   "pygments_lexer": "ipython3",
   "version": "3.8.18"
  }
 },
 "nbformat": 4,
 "nbformat_minor": 5
}
