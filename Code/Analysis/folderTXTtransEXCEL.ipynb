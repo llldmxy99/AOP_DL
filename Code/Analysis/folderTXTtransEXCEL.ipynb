{
 "cells": [
  {
   "cell_type": "code",
   "execution_count": 1,
   "id": "d62b1ff5-e8b3-4ba8-b25b-16c03c3c9fb2",
   "metadata": {},
   "outputs": [
    {
     "name": "stdout",
     "output_type": "stream",
     "text": [
      "done\n"
     ]
    }
   ],
   "source": [
    "import os\n",
    "import glob\n",
    "import pandas as pd\n",
    "from openpyxl import Workbook\n",
    "\n",
    "# 第一步：读取TXT文件，写入Excel文件\n",
    "def txt_to_excel(folder_path):\n",
    "    txt_files = glob.glob(os.path.join(folder_path, '*.txt'))\n",
    "    \n",
    "    for file in txt_files:\n",
    "        with open(file, 'r') as f:\n",
    "            sequences = f.readlines()\n",
    "\n",
    "        # 创建蛋白质序列的DataFrame\n",
    "        df = pd.DataFrame(sequences, columns=['Sequence'])\n",
    "        df['Sequence'] = df['Sequence'].str.strip()  # 移除可能的换行符\n",
    "        df['Length'] = df['Sequence'].apply(len)\n",
    "        df.sort_values(by='Length', inplace=True)\n",
    "        \n",
    "        # 创建并写入Excel文件\n",
    "        excel_filename = os.path.splitext(os.path.basename(file))[0] + '.xlsx'\n",
    "        excel_path = os.path.join(folder_path, excel_filename)\n",
    "        with pd.ExcelWriter(excel_path) as writer:\n",
    "            df.to_excel(writer, index=False)\n",
    "            \n",
    "# 第二步：过滤氨基酸序列长度，并保存新的TXT文件\n",
    "def filter_sequences_to_txt(folder_path):\n",
    "    excel_files = glob.glob(os.path.join(folder_path, '*.xlsx'))\n",
    "\n",
    "    for file in excel_files:\n",
    "        df = pd.read_excel(file)\n",
    "        \n",
    "        # 只选取长度在1到1000之间的序列\n",
    "        filtered_df = df[(df['Length'] > 0) & (df['Length'] <= 1000)]\n",
    "        \n",
    "        txt_filename = os.path.splitext(os.path.basename(file))[0] + '_1000.txt'\n",
    "        txt_path = os.path.join(folder_path, txt_filename)\n",
    "\n",
    "        # 保存到TXT文件\n",
    "        with open(txt_path, 'w') as f:\n",
    "            for sequence in filtered_df['Sequence']:\n",
    "                f.write(\"%s\\n\" % sequence.strip())\n",
    "\n",
    "# 第三步：将过滤后的TXT文件导出到新的Excel文件\n",
    "def sequences_txt_to_excel_prediction(folder_path):\n",
    "    txt_files = glob.glob(os.path.join(folder_path, '*_1000.txt'))\n",
    "\n",
    "    for file in txt_files:\n",
    "        df = pd.read_csv(file, header=None, names=['Sequence'])\n",
    "        \n",
    "        wb = Workbook()\n",
    "        ws = wb.active\n",
    "        ws.title = 'Predictions'\n",
    "        \n",
    "        for seq in df['Sequence']:\n",
    "            ws.append([seq])\n",
    "        \n",
    "        excel_filename = os.path.splitext(os.path.basename(file))[0] + '_prediction.xlsx'\n",
    "        wb.save(os.path.join(folder_path, excel_filename))\n",
    "\n",
    "# 运行上述定义的函数\n",
    "folder_path = r\"folder_file_path\"  # 这里设置你的文件夹路径\n",
    "txt_to_excel(folder_path)\n",
    "filter_sequences_to_txt(folder_path)\n",
    "sequences_txt_to_excel_prediction(folder_path)\n",
    "\n",
    "print(\"done\")"
   ]
  },
  {
   "cell_type": "code",
   "execution_count": null,
   "id": "717112f4-4141-42ab-8d8c-83f66cb89854",
   "metadata": {},
   "outputs": [],
   "source": []
  }
 ],
 "metadata": {
  "kernelspec": {
   "display_name": "Python 3 (ipykernel)",
   "language": "python",
   "name": "python3"
  },
  "language_info": {
   "codemirror_mode": {
    "name": "ipython",
    "version": 3
   },
   "file_extension": ".py",
   "mimetype": "text/x-python",
   "name": "python",
   "nbconvert_exporter": "python",
   "pygments_lexer": "ipython3",
   "version": "3.8.18"
  }
 },
 "nbformat": 4,
 "nbformat_minor": 5
}
