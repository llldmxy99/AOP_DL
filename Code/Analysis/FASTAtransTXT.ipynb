{
 "cells": [
  {
   "cell_type": "code",
   "execution_count": 1,
   "id": "5e66ef4e-fb62-45f3-af00-bdb7cb8f8f30",
   "metadata": {},
   "outputs": [
    {
     "name": "stdout",
     "output_type": "stream",
     "text": [
      "文件处理完成。\n"
     ]
    }
   ],
   "source": [
    "def process_fasta_file(input_file_path, output_file_path):\n",
    "    with open(input_file_path, 'r') as input_file, open(output_file_path, 'w') as output_file:\n",
    "        # 初始化序列变量为空字符串\n",
    "        sequence = ''\n",
    "        for line in input_file:\n",
    "            # 如果行以\">sp\"开头，表示这是一个新的蛋白质序列\n",
    "            if line.startswith('>tr') or line.startswith('>sp') or line.startswith('>CAMP'):\n",
    "                if sequence:\n",
    "                    # 如果之前的序列不为空，先将其写入输出文件后再开始新的序列\n",
    "                    output_file.write(sequence + '\\n')\n",
    "                # 重置序列变量为空字符串，开始记录新序列\n",
    "                sequence = ''\n",
    "            else:\n",
    "                # 如果不是以\">sp\"开头，则是序列的一部分，应该去除换行符后添加到当前序列\n",
    "                sequence += line.strip()\n",
    "        # 为了不丢失最后一个序列，检查并写入它\n",
    "        if sequence:\n",
    "            output_file.write(sequence + '\\n')\n",
    "\n",
    "# 替换以下路径为您的输入文件和期望的输出文件路径\n",
    "input_file_path = r\"C:\\Users\\Administrator\\Downloads\\uniprotkb_ec_1_11_1_24_2024_04_07.fasta\"\n",
    "output_file_path = r\"C:\\Users\\Administrator\\Downloads\\(ec1.11.1.24).txt\"\n",
    "\n",
    "process_fasta_file(input_file_path, output_file_path)\n",
    "\n",
    "print(\"文件处理完成。\")\n"
   ]
  },
  {
   "cell_type": "code",
   "execution_count": null,
   "id": "0c03e9fc-a9f2-475d-9852-c0b17fc07c83",
   "metadata": {},
   "outputs": [],
   "source": []
  }
 ],
 "metadata": {
  "kernelspec": {
   "display_name": "pytorch1",
   "language": "python",
   "name": "pytorch1"
  },
  "language_info": {
   "codemirror_mode": {
    "name": "ipython",
    "version": 3
   },
   "file_extension": ".py",
   "mimetype": "text/x-python",
   "name": "python",
   "nbconvert_exporter": "python",
   "pygments_lexer": "ipython3",
   "version": "3.8.18"
  }
 },
 "nbformat": 4,
 "nbformat_minor": 5
}
