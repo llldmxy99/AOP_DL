{
 "cells": [
  {
   "cell_type": "code",
   "execution_count": 1,
   "id": "ee0396c6-82fe-4832-8494-34f2a022cca6",
   "metadata": {},
   "outputs": [
    {
     "name": "stdout",
     "output_type": "stream",
     "text": [
      "文件 uniprotkb_ec_1_8_4_2024_04_09.fasta 处理完成。\n",
      "文件 uniprotkb_NOT_ec_1_8_1_AND_reviewed_tru_2024_04_09.fasta 处理完成。\n",
      "文件 uniprotkb_NOT_ec_1_8_4_AND_reviewed_tru_2024_04_09.fasta 处理完成。\n"
     ]
    }
   ],
   "source": [
    "import os\n",
    "\n",
    "def process_fasta_file(input_file_path, output_file_path):\n",
    "    with open(input_file_path, 'r') as input_file, open(output_file_path, 'w') as output_file:\n",
    "        sequence = ''\n",
    "        for line in input_file:\n",
    "            if line.startswith('>tr') or line.startswith('>sp') or line.startswith('>CAMP'):\n",
    "                if sequence:\n",
    "                    output_file.write(sequence + '\\n')\n",
    "                sequence = ''\n",
    "            else:\n",
    "                sequence += line.strip()\n",
    "        if sequence:\n",
    "            output_file.write(sequence + '\\n')\n",
    "\n",
    "def process_all_fasta_files(input_folder_path, output_folder_path):\n",
    "    for file_name in os.listdir(input_folder_path):\n",
    "        if file_name.endswith('.fasta'):\n",
    "            input_file_path = os.path.join(input_folder_path, file_name)\n",
    "            output_file_name = file_name.replace('.fasta', '.txt')\n",
    "            output_file_path = os.path.join(output_folder_path, output_file_name)\n",
    "            process_fasta_file(input_file_path, output_file_path)\n",
    "            print(f\"文件 {file_name} 处理完成。\")\n",
    "\n",
    "# 替换以下路径为您的输入文件夹和期望的输出文件夹路径\n",
    "input_folder_path = r\"folder_file_path\"\n",
    "output_folder_path = r\"folder_file_path\"\n",
    "\n",
    "# 确保输出文件夹存在\n",
    "if not os.path.exists(output_folder_path):\n",
    "    os.makedirs(output_folder_path)\n",
    "\n",
    "process_all_fasta_files(input_folder_path, output_folder_path)\n"
   ]
  },
  {
   "cell_type": "code",
   "execution_count": null,
   "id": "1d0fbbe6-5168-4a4f-b3c4-1430947d3f0b",
   "metadata": {},
   "outputs": [],
   "source": []
  }
 ],
 "metadata": {
  "kernelspec": {
   "display_name": "Python 3 (ipykernel)",
   "language": "python",
   "name": "python3"
  },
  "language_info": {
   "codemirror_mode": {
    "name": "ipython",
    "version": 3
   },
   "file_extension": ".py",
   "mimetype": "text/x-python",
   "name": "python",
   "nbconvert_exporter": "python",
   "pygments_lexer": "ipython3",
   "version": "3.8.18"
  }
 },
 "nbformat": 4,
 "nbformat_minor": 5
}
