{
 "cells": [
  {
   "cell_type": "code",
   "execution_count": 2,
   "id": "0de1d522-3feb-4ba9-bfde-a61185dc4df5",
   "metadata": {},
   "outputs": [
    {
     "name": "stdout",
     "output_type": "stream",
     "text": [
      "done\n"
     ]
    }
   ],
   "source": [
    "import random\n",
    "\n",
    "# 设置随机种子以确保结果可重复\n",
    "random.seed(42)\n",
    "\n",
    "# 读取原始文件\n",
    "with open(r\"C:\\Users\\Administrator\\Desktop\\AI\\AIP_MDL\\Dateset\\Antimicrobial_Innate immunity\\NOT_Antimicrobial_Innate immunity_1000.txt\", 'r') as file:\n",
    "    lines = file.readlines()\n",
    "\n",
    "# 计算要抽取的行数（30%）\n",
    "num_to_select = int(len(lines) * 0.6)\n",
    "\n",
    "# 随机选择行\n",
    "selected_lines = random.sample(lines, num_to_select)\n",
    "\n",
    "# 写入新文件\n",
    "with open(r\"C:\\Users\\Administrator\\Desktop\\AI\\AIP_MDL\\Dateset\\Antimicrobial_Innate immunity\\0.6_NOT_cAMP_1000.txt\", 'w') as file:\n",
    "    file.writelines(selected_lines)\n",
    "\n",
    "print(\"done\")"
   ]
  },
  {
   "cell_type": "code",
   "execution_count": null,
   "id": "e35d0859-a0cd-4ce3-b62a-7cb8e56647e7",
   "metadata": {},
   "outputs": [],
   "source": []
  }
 ],
 "metadata": {
  "kernelspec": {
   "display_name": "pytorch1",
   "language": "python",
   "name": "pytorch1"
  },
  "language_info": {
   "codemirror_mode": {
    "name": "ipython",
    "version": 3
   },
   "file_extension": ".py",
   "mimetype": "text/x-python",
   "name": "python",
   "nbconvert_exporter": "python",
   "pygments_lexer": "ipython3",
   "version": "3.8.18"
  }
 },
 "nbformat": 4,
 "nbformat_minor": 5
}
