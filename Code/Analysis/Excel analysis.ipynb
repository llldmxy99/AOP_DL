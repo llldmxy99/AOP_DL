{
 "cells": [
  {
   "cell_type": "code",
   "execution_count": 22,
   "id": "dd499a4a-3838-49f1-96f9-bc28ccefb1de",
   "metadata": {},
   "outputs": [
    {
     "name": "stdout",
     "output_type": "stream",
     "text": [
      "处理完成，结果已保存到： C:\\Users\\Administrator\\Desktop\\AI\\AIP_MDL\\Dateset\\Antimicrobial_Innate immunity\\analysis.xlsx\n"
     ]
    }
   ],
   "source": [
    "import pandas as pd\n",
    "import os\n",
    "\n",
    "# 读取Excel文件\n",
    "file_path = r\"Excel_path.xlsx\"  # 文件路径\n",
    "column_name = 'result1'  # 要分析的列名\n",
    "sheet_name = 'Sheet1'  # 表单名称\n",
    "\n",
    "# 读取特定列的数据\n",
    "df = pd.read_excel(file_path, sheet_name=sheet_name, usecols=[column_name])\n",
    "\n",
    "# 设定数值范围\n",
    "lower_bound = 20\n",
    "upper_bound = 100\n",
    "\n",
    "# 筛选数据\n",
    "filtered_df = df[(df[column_name] >= lower_bound) & (df[column_name] <= upper_bound)]\n",
    "\n",
    "# 设定间隔\n",
    "interval = 80  # 间隔可更改\n",
    "bins = list(range(lower_bound, upper_bound + interval, interval))\n",
    "\n",
    "# 计算每个区间的计数\n",
    "interval_counts = filtered_df.groupby(pd.cut(filtered_df[column_name], bins=bins)).size()\n",
    "\n",
    "# 计算总数\n",
    "total_count = filtered_df.shape[0]\n",
    "\n",
    "# 计算每个区间的百分比\n",
    "percentage = (interval_counts / total_count) * 100\n",
    "#percentage = (interval_counts / 547101) * 100\n",
    "\n",
    "# 创建新的结果DataFrame\n",
    "results_df = pd.DataFrame({\n",
    "    'Interval': interval_counts.index.astype(str),\n",
    "    'count': interval_counts.values,\n",
    "    'percentage': percentage.values\n",
    "})\n",
    "\n",
    "# 输出文件路径\n",
    "output_file_path = r\"Excel_analysis.xlsx\"  # 输出文件路径\n",
    "\n",
    "# 使用ExcelWriter以追加模式写入数据\n",
    "with pd.ExcelWriter(output_file_path, mode='a', if_sheet_exists='overlay') as writer: \n",
    "    # 检查文件是否存在，如果存在则追加；否则，写入新文件\n",
    "    if os.path.exists(output_file_path):\n",
    "        startrow = writer.sheets[sheet_name].max_row\n",
    "    else:\n",
    "        startrow = 0\n",
    "    # 将数据写入，不覆盖现有工作表\n",
    "    results_df.to_excel(writer, sheet_name=sheet_name, startrow=startrow, index=False)\n",
    "\n",
    "print('处理完成，结果已保存到：', output_file_path)\n"
   ]
  }
 ],
 "metadata": {
  "kernelspec": {
   "display_name": "Python 3 (ipykernel)",
   "language": "python",
   "name": "python3"
  },
  "language_info": {
   "codemirror_mode": {
    "name": "ipython",
    "version": 3
   },
   "file_extension": ".py",
   "mimetype": "text/x-python",
   "name": "python",
   "nbconvert_exporter": "python",
   "pygments_lexer": "ipython3",
   "version": "3.8.18"
  }
 },
 "nbformat": 4,
 "nbformat_minor": 5
}
