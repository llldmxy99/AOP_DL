{
 "cells": [
  {
   "cell_type": "code",
   "execution_count": 5,
   "id": "db8fdd90-8b2f-4441-bbfd-d507ed39225f",
   "metadata": {},
   "outputs": [
    {
     "name": "stdout",
     "output_type": "stream",
     "text": [
      "处理完成，结果已保存到： C:\\Users\\Administrator\\Desktop\\AI\\AOP_MDL\\Dataset\\Analysis.xlsx\n"
     ]
    }
   ],
   "source": [
    "import pandas as pd\n",
    "import numpy as np\n",
    "import os\n",
    "\n",
    "# 文件路径\n",
    "file_path = r\"Excel_path\"\n",
    "sheet_name = 'Sheet1'  # 表单名称\n",
    "\n",
    "# 要分析的多个列名\n",
    "column_names = ['Sequence1','Sequence2','Sequence3','Sequence4','Sequence5','Sequence6',]  # 示例列名，根据需要进行更改\n",
    "\n",
    "# 设定数值范围\n",
    "lower_bound = 0\n",
    "upper_bound = 90\n",
    "\n",
    "# 设定间隔\n",
    "interval = 90\n",
    "bins = list(range(lower_bound, upper_bound + interval, interval))\n",
    "\n",
    "# 读取特定列的数据\n",
    "df = pd.read_excel(file_path, sheet_name=sheet_name, usecols=column_names)\n",
    "\n",
    "# 创建存放结果的DataFrame\n",
    "results_df = pd.DataFrame()\n",
    "\n",
    "# 处理每一列，并将结果追加到results_df中\n",
    "for column_name in column_names:\n",
    "    # 筛选数据\n",
    "    filtered_df = df[(df[column_name] >= lower_bound) & (df[column_name] <= upper_bound)]\n",
    "    \n",
    "    # 计算每个区间的计数\n",
    "    interval_counts = filtered_df.groupby(pd.cut(filtered_df[column_name], bins=bins)).size()\n",
    "    \n",
    "    # 计算每个区间的百分比\n",
    "    percentage = (interval_counts / df.shape[0]) * 100\n",
    "    #percentage = (interval_counts / all result) * 100\n",
    "    \n",
    "    # 将结果追加到结果DataFrame中\n",
    "    results_df[column_name] = interval_counts.values\n",
    "    results_df[column_name + '(%)'] = percentage.values\n",
    "\n",
    "# 输出文件路径\n",
    "output_file_path = r\"Excel_path.xlsx\"\n",
    "\n",
    "# 确保输出目录存在\n",
    "os.makedirs(os.path.dirname(output_file_path), exist_ok=True)\n",
    "\n",
    "# 使用ExcelWriter以追加模式写入数据\n",
    "with pd.ExcelWriter(output_file_path, mode='a', if_sheet_exists='overlay') as writer: \n",
    "    # 检查文件是否存在，如果存在则追加；否则，写入新文件\n",
    "    if os.path.exists(output_file_path) and sheet_name in writer.book.sheetnames:\n",
    "        startrow = writer.book[sheet_name].max_row\n",
    "    else:\n",
    "        startrow = 0\n",
    "    # 将数据写入，不覆盖现有工作表\n",
    "    results_df.to_excel(writer, sheet_name=sheet_name, startrow=startrow, index=False)\n",
    "\n",
    "print('处理完成，结果已保存到：', output_file_path)\n"
   ]
  }
 ],
 "metadata": {
  "kernelspec": {
   "display_name": "Python 3 (ipykernel)",
   "language": "python",
   "name": "python3"
  },
  "language_info": {
   "codemirror_mode": {
    "name": "ipython",
    "version": 3
   },
   "file_extension": ".py",
   "mimetype": "text/x-python",
   "name": "python",
   "nbconvert_exporter": "python",
   "pygments_lexer": "ipython3",
   "version": "3.8.18"
  }
 },
 "nbformat": 4,
 "nbformat_minor": 5
}
